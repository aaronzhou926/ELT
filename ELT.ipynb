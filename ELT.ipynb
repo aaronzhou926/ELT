{
 "cells": [
  {
   "cell_type": "code",
   "execution_count": 1,
   "metadata": {},
   "outputs": [],
   "source": [
    "import json\n",
    "import requests\n",
    "import pandas as pd\n",
    "import time\n",
    "import pymysql\n",
    "from multiprocessing import Pool\n",
    "from sqlalchemy import create_engine"
   ]
  },
  {
   "cell_type": "code",
   "execution_count": 2,
   "metadata": {},
   "outputs": [],
   "source": [
    "#https://www.nasdaq.com/screening/companies-by-industry.aspx?industry=Technology&exchange=NASDAQ\n",
    "#for stock tickers and companies informaiton\n",
    "\n",
    "file_to_load = \"Resources/companylist.csv\"\n",
    "stocks = pd.read_csv(file_to_load)"
   ]
  },
  {
   "cell_type": "code",
   "execution_count": 3,
   "metadata": {
    "scrolled": true
   },
   "outputs": [],
   "source": [
    "stocks = stocks[['Symbol','Name','MarketCap','IPOyear','Sector','Industry']]"
   ]
  },
  {
   "cell_type": "code",
   "execution_count": 4,
   "metadata": {},
   "outputs": [],
   "source": [
    "stocks = stocks.rename(columns={'Name':'Company_Name'})"
   ]
  },
  {
   "cell_type": "code",
   "execution_count": 5,
   "metadata": {},
   "outputs": [
    {
     "data": {
      "text/html": [
       "<div>\n",
       "<style scoped>\n",
       "    .dataframe tbody tr th:only-of-type {\n",
       "        vertical-align: middle;\n",
       "    }\n",
       "\n",
       "    .dataframe tbody tr th {\n",
       "        vertical-align: top;\n",
       "    }\n",
       "\n",
       "    .dataframe thead th {\n",
       "        text-align: right;\n",
       "    }\n",
       "</style>\n",
       "<table border=\"1\" class=\"dataframe\">\n",
       "  <thead>\n",
       "    <tr style=\"text-align: right;\">\n",
       "      <th></th>\n",
       "      <th>Symbol</th>\n",
       "      <th>Company_Name</th>\n",
       "      <th>MarketCap</th>\n",
       "      <th>IPOyear</th>\n",
       "      <th>Sector</th>\n",
       "      <th>Industry</th>\n",
       "    </tr>\n",
       "  </thead>\n",
       "  <tbody>\n",
       "    <tr>\n",
       "      <th>0</th>\n",
       "      <td>GOOG</td>\n",
       "      <td>Alphabet Inc.</td>\n",
       "      <td>8.049285e+11</td>\n",
       "      <td>2004.0</td>\n",
       "      <td>Technology</td>\n",
       "      <td>Computer Software: Programming, Data Processing</td>\n",
       "    </tr>\n",
       "    <tr>\n",
       "      <th>1</th>\n",
       "      <td>GOOGL</td>\n",
       "      <td>Alphabet Inc.</td>\n",
       "      <td>8.098504e+11</td>\n",
       "      <td>NaN</td>\n",
       "      <td>Technology</td>\n",
       "      <td>Computer Software: Programming, Data Processing</td>\n",
       "    </tr>\n",
       "    <tr>\n",
       "      <th>2</th>\n",
       "      <td>AAPL</td>\n",
       "      <td>Apple Inc.</td>\n",
       "      <td>8.229107e+11</td>\n",
       "      <td>1980.0</td>\n",
       "      <td>Technology</td>\n",
       "      <td>Computer Manufacturing</td>\n",
       "    </tr>\n",
       "    <tr>\n",
       "      <th>3</th>\n",
       "      <td>CSCO</td>\n",
       "      <td>Cisco Systems, Inc.</td>\n",
       "      <td>2.274528e+11</td>\n",
       "      <td>1990.0</td>\n",
       "      <td>Technology</td>\n",
       "      <td>Computer Communications Equipment</td>\n",
       "    </tr>\n",
       "    <tr>\n",
       "      <th>4</th>\n",
       "      <td>FB</td>\n",
       "      <td>Facebook, Inc.</td>\n",
       "      <td>4.923418e+11</td>\n",
       "      <td>2012.0</td>\n",
       "      <td>Technology</td>\n",
       "      <td>Computer Software: Programming, Data Processing</td>\n",
       "    </tr>\n",
       "    <tr>\n",
       "      <th>5</th>\n",
       "      <td>INTC</td>\n",
       "      <td>Intel Corporation</td>\n",
       "      <td>2.381162e+11</td>\n",
       "      <td>NaN</td>\n",
       "      <td>Technology</td>\n",
       "      <td>Semiconductors</td>\n",
       "    </tr>\n",
       "    <tr>\n",
       "      <th>6</th>\n",
       "      <td>MSFT</td>\n",
       "      <td>Microsoft Corporation</td>\n",
       "      <td>8.573699e+11</td>\n",
       "      <td>1986.0</td>\n",
       "      <td>Technology</td>\n",
       "      <td>Computer Software: Prepackaged Software</td>\n",
       "    </tr>\n",
       "  </tbody>\n",
       "</table>\n",
       "</div>"
      ],
      "text/plain": [
       "  Symbol           Company_Name     MarketCap  IPOyear      Sector  \\\n",
       "0   GOOG          Alphabet Inc.  8.049285e+11   2004.0  Technology   \n",
       "1  GOOGL          Alphabet Inc.  8.098504e+11      NaN  Technology   \n",
       "2   AAPL             Apple Inc.  8.229107e+11   1980.0  Technology   \n",
       "3   CSCO    Cisco Systems, Inc.  2.274528e+11   1990.0  Technology   \n",
       "4     FB         Facebook, Inc.  4.923418e+11   2012.0  Technology   \n",
       "5   INTC      Intel Corporation  2.381162e+11      NaN  Technology   \n",
       "6   MSFT  Microsoft Corporation  8.573699e+11   1986.0  Technology   \n",
       "\n",
       "                                          Industry  \n",
       "0  Computer Software: Programming, Data Processing  \n",
       "1  Computer Software: Programming, Data Processing  \n",
       "2                           Computer Manufacturing  \n",
       "3                Computer Communications Equipment  \n",
       "4  Computer Software: Programming, Data Processing  \n",
       "5                                   Semiconductors  \n",
       "6          Computer Software: Prepackaged Software  "
      ]
     },
     "execution_count": 5,
     "metadata": {},
     "output_type": "execute_result"
    }
   ],
   "source": [
    "stocks"
   ]
  },
  {
   "cell_type": "code",
   "execution_count": 6,
   "metadata": {},
   "outputs": [],
   "source": [
    "stock_tickers = stocks[\"Symbol\"]"
   ]
  },
  {
   "cell_type": "code",
   "execution_count": 7,
   "metadata": {},
   "outputs": [
    {
     "data": {
      "text/plain": [
       "7"
      ]
     },
     "execution_count": 7,
     "metadata": {},
     "output_type": "execute_result"
    }
   ],
   "source": [
    "stock_tickers.count()"
   ]
  },
  {
   "cell_type": "code",
   "execution_count": null,
   "metadata": {},
   "outputs": [],
   "source": [
    "#query_url = f\"https://www.alphavantage.co/query?function=TIME_SERIES_DAILY&symbol=GOOG&outputsize=full&apikey=9U1TJY7GWT8RKKHT\"\n",
    "#response = requests.get(query_url).json()\n",
    "#trading_data = response['Time Series (Daily)']\n",
    "#df = pd.DataFrame.from_records(trading_data).T\n",
    "#df.reset_index(inplace=True)\n",
    "#df['ticker'] = 'GOOG'\n",
    "#df.head()\n"
   ]
  },
  {
   "cell_type": "code",
   "execution_count": 8,
   "metadata": {
    "scrolled": true
   },
   "outputs": [
    {
     "name": "stdout",
     "output_type": "stream",
     "text": [
      "0. Getting information for GOOG.\n",
      "------------------------------------------\n",
      "Moving on to the next stock in the list...\n",
      "------------------------------------------\n",
      "1. Getting information for GOOGL.\n",
      "------------------------------------------\n",
      "Moving on to the next stock in the list...\n",
      "------------------------------------------\n",
      "2. Getting information for AAPL.\n",
      "------------------------------------------\n",
      "Moving on to the next stock in the list...\n",
      "------------------------------------------\n",
      "3. Getting information for CSCO.\n",
      "------------------------------------------\n",
      "Moving on to the next stock in the list...\n",
      "------------------------------------------\n",
      "4. Getting information for FB.\n",
      "------------------------------------------\n",
      "Moving on to the next stock in the list...\n",
      "------------------------------------------\n",
      "5. Getting information for INTC.\n",
      "------------------------------------------\n",
      "Moving on to the next stock in the list...\n",
      "------------------------------------------\n",
      "6. Getting information for MSFT.\n",
      "------------------------------------------\n",
      "Moving on to the next stock in the list...\n",
      "------------------------------------------\n"
     ]
    }
   ],
   "source": [
    "# I found https://www.alphavantage.co/ provides free API for stock trading data.\n",
    "# In addition, below codes are for initial extraction of trading data based on daily prices.\n",
    "# For daily update purposes/change of trading data freqencies (from mins to monthly), user needs to update 'qurey_url'\n",
    "# accordingly by going on to Alpha Avantage's website and review its documentation.\n",
    "\n",
    "i = 0\n",
    "trading_data = []\n",
    "master_df = pd.DataFrame()\n",
    "\n",
    "#create a for loop for getting trading data of each stock\n",
    "for stock in stock_tickers:\n",
    "    query_url = f\"https://www.alphavantage.co/query?function=TIME_SERIES_DAILY&symbol={stock}&outputsize=full&apikey=9U1TJY7GWT8RKKHT\"\n",
    "    response = requests.get(query_url).json()\n",
    "    try:\n",
    "        print(f\"{i}. Getting information for {stock}.\")\n",
    "        #append daily trading data into trading_data list\n",
    "        trading_data.append(response['Time Series (Daily)'])\n",
    "        #pause for 10 s to avoid being disconnected from alpha's server\n",
    "        time.sleep(10.0)\n",
    "        print(f'------------------------------------------')\n",
    "        #create a dataframe and store trading data in trading_data list\n",
    "        records = pd.DataFrame.from_records(trading_data[i]).T\n",
    "        #rest the dataframe and assign index to date column\n",
    "        records.reset_index(inplace=True)\n",
    "        #add a new column with the stock ticker\n",
    "        records['Ticker'] = stock\n",
    "        # append each stock's dataframe to master_df\n",
    "        master_df = master_df.append(records, ignore_index=True)\n",
    "    except (KeyError):\n",
    "        print(\"Missing field/result... skipping.\")\n",
    "    i += 1\n",
    "    print(f'Moving on to the next stock in the list...')\n",
    "    print(f'------------------------------------------')\n"
   ]
  },
  {
   "cell_type": "code",
   "execution_count": 9,
   "metadata": {},
   "outputs": [],
   "source": [
    "#rename column\n",
    "master_df = master_df.rename(columns={'index':'Trading_Date','1. open':'Open_Price',\n",
    "                                     '2. high':'Higest_Price','3. low':'Lowest_Price',\n",
    "                                     '4. close': 'Close_Price', '5. volume': 'Trading_Volume',\n",
    "                                     })"
   ]
  },
  {
   "cell_type": "code",
   "execution_count": 10,
   "metadata": {},
   "outputs": [
    {
     "data": {
      "text/html": [
       "<div>\n",
       "<style scoped>\n",
       "    .dataframe tbody tr th:only-of-type {\n",
       "        vertical-align: middle;\n",
       "    }\n",
       "\n",
       "    .dataframe tbody tr th {\n",
       "        vertical-align: top;\n",
       "    }\n",
       "\n",
       "    .dataframe thead th {\n",
       "        text-align: right;\n",
       "    }\n",
       "</style>\n",
       "<table border=\"1\" class=\"dataframe\">\n",
       "  <thead>\n",
       "    <tr style=\"text-align: right;\">\n",
       "      <th></th>\n",
       "      <th>Trading_Date</th>\n",
       "      <th>Open_Price</th>\n",
       "      <th>Higest_Price</th>\n",
       "      <th>Lowest_Price</th>\n",
       "      <th>Close_Price</th>\n",
       "      <th>Trading_Volume</th>\n",
       "      <th>Ticker</th>\n",
       "    </tr>\n",
       "  </thead>\n",
       "  <tbody>\n",
       "    <tr>\n",
       "      <th>0</th>\n",
       "      <td>2014-03-27</td>\n",
       "      <td>568.0000</td>\n",
       "      <td>568.0000</td>\n",
       "      <td>552.9200</td>\n",
       "      <td>558.4600</td>\n",
       "      <td>13100</td>\n",
       "      <td>GOOG</td>\n",
       "    </tr>\n",
       "    <tr>\n",
       "      <th>1</th>\n",
       "      <td>2014-03-28</td>\n",
       "      <td>561.2000</td>\n",
       "      <td>566.4300</td>\n",
       "      <td>558.6700</td>\n",
       "      <td>559.9900</td>\n",
       "      <td>41100</td>\n",
       "      <td>GOOG</td>\n",
       "    </tr>\n",
       "    <tr>\n",
       "      <th>2</th>\n",
       "      <td>2014-03-31</td>\n",
       "      <td>566.8900</td>\n",
       "      <td>567.0000</td>\n",
       "      <td>556.9300</td>\n",
       "      <td>556.9700</td>\n",
       "      <td>10800</td>\n",
       "      <td>GOOG</td>\n",
       "    </tr>\n",
       "    <tr>\n",
       "      <th>3</th>\n",
       "      <td>2014-04-01</td>\n",
       "      <td>558.7100</td>\n",
       "      <td>568.4500</td>\n",
       "      <td>558.7100</td>\n",
       "      <td>567.1600</td>\n",
       "      <td>7900</td>\n",
       "      <td>GOOG</td>\n",
       "    </tr>\n",
       "    <tr>\n",
       "      <th>4</th>\n",
       "      <td>2014-04-02</td>\n",
       "      <td>565.1060</td>\n",
       "      <td>604.8300</td>\n",
       "      <td>562.1900</td>\n",
       "      <td>567.0000</td>\n",
       "      <td>146700</td>\n",
       "      <td>GOOG</td>\n",
       "    </tr>\n",
       "  </tbody>\n",
       "</table>\n",
       "</div>"
      ],
      "text/plain": [
       "  Trading_Date Open_Price Higest_Price Lowest_Price Close_Price  \\\n",
       "0   2014-03-27   568.0000     568.0000     552.9200    558.4600   \n",
       "1   2014-03-28   561.2000     566.4300     558.6700    559.9900   \n",
       "2   2014-03-31   566.8900     567.0000     556.9300    556.9700   \n",
       "3   2014-04-01   558.7100     568.4500     558.7100    567.1600   \n",
       "4   2014-04-02   565.1060     604.8300     562.1900    567.0000   \n",
       "\n",
       "  Trading_Volume Ticker  \n",
       "0          13100   GOOG  \n",
       "1          41100   GOOG  \n",
       "2          10800   GOOG  \n",
       "3           7900   GOOG  \n",
       "4         146700   GOOG  "
      ]
     },
     "execution_count": 10,
     "metadata": {},
     "output_type": "execute_result"
    }
   ],
   "source": [
    "master_df.head()"
   ]
  },
  {
   "cell_type": "code",
   "execution_count": 11,
   "metadata": {},
   "outputs": [],
   "source": [
    "master_df[\"ID\"] = master_df[\"Ticker\"]+master_df[\"Trading_Date\"]"
   ]
  },
  {
   "cell_type": "code",
   "execution_count": 12,
   "metadata": {},
   "outputs": [],
   "source": [
    "rds_connection_string = \"root:GuyAzz42604260@localhost:3306/stocks_db\"\n",
    "engine = create_engine(f'mysql+pymysql://{rds_connection_string}')"
   ]
  },
  {
   "cell_type": "code",
   "execution_count": 13,
   "metadata": {},
   "outputs": [
    {
     "data": {
      "text/plain": [
       "['company_inform', 'trading_data']"
      ]
     },
     "execution_count": 13,
     "metadata": {},
     "output_type": "execute_result"
    }
   ],
   "source": [
    "engine.table_names()"
   ]
  },
  {
   "cell_type": "code",
   "execution_count": 29,
   "metadata": {},
   "outputs": [
    {
     "name": "stdout",
     "output_type": "stream",
     "text": [
      "Double check MySQL, do not duplicate your work.\n"
     ]
    }
   ],
   "source": [
    "try:\n",
    "    stocks.to_sql(name='company_inform', con=engine, if_exists='append', index=False)\n",
    "except Exception as e:\n",
    "        print(\"Double check MySQL, do not duplicate your work.\")"
   ]
  },
  {
   "cell_type": "code",
   "execution_count": 30,
   "metadata": {},
   "outputs": [
    {
     "name": "stdout",
     "output_type": "stream",
     "text": [
      "Plase double check your SQL database.\n"
     ]
    }
   ],
   "source": [
    "try:\n",
    "    master_df.to_sql(name='trading_data', con=engine, if_exists='append', index=False)\n",
    "except Exception as e:\n",
    "        print(\"Plase double check your SQL database.\")"
   ]
  },
  {
   "cell_type": "code",
   "execution_count": null,
   "metadata": {},
   "outputs": [],
   "source": [
    "#def get_quote(ticker):\n",
    "    #query_url = 'https://www.alphavantage.co/query?function=TIME_SERIES_DAILY&symbol='+ticker.upper()+'&outputsize=full&apikey=BRTJEWEQ9KK7TK9G'\n",
    "    #responses = requests.get(query_url).json()\n",
    "    #res = pd.DataFrame(responses['Time Series (Daily)']).T\n",
    "    #res.reset_index(inplace=True)\n",
    "    #res.columns =['date','open','high','low','close','volume']\n",
    "    #return {ticker.upper():res}\n",
    "\n",
    "#tickers = ['GOOG']\n",
    "#p = Pool(5)\n",
    "#datas = p.map(get_quote, tickers)"
   ]
  }
 ],
 "metadata": {
  "kernelspec": {
   "display_name": "Python [conda env:pythondata]",
   "language": "python",
   "name": "conda-env-pythondata-py"
  },
  "language_info": {
   "codemirror_mode": {
    "name": "ipython",
    "version": 3
   },
   "file_extension": ".py",
   "mimetype": "text/x-python",
   "name": "python",
   "nbconvert_exporter": "python",
   "pygments_lexer": "ipython3",
   "version": "3.6.8"
  }
 },
 "nbformat": 4,
 "nbformat_minor": 2
}
